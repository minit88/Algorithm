{
  "nbformat": 4,
  "nbformat_minor": 0,
  "metadata": {
    "colab": {
      "name": "Dijkstra.ipynb",
      "provenance": [],
      "authorship_tag": "ABX9TyNfQa3zuR0UJv25ofACjZjA",
      "include_colab_link": true
    },
    "kernelspec": {
      "name": "python3",
      "display_name": "Python 3"
    },
    "language_info": {
      "name": "python"
    }
  },
  "cells": [
    {
      "cell_type": "markdown",
      "metadata": {
        "id": "view-in-github",
        "colab_type": "text"
      },
      "source": [
        "<a href=\"https://colab.research.google.com/github/minit88/Algorithm/blob/main/Shortest%20Path/Dijkstra.ipynb\" target=\"_parent\"><img src=\"https://colab.research.google.com/assets/colab-badge.svg\" alt=\"Open In Colab\"/></a>"
      ]
    },
    {
      "cell_type": "code",
      "execution_count": null,
      "metadata": {
        "id": "s7K7HQKEbS9j"
      },
      "outputs": [],
      "source": [
        "# 다익스트라 알고리즘\n",
        "\n",
        "import heapq\n",
        "INF = int(1e9)\n",
        "\n",
        "n,m = map(int,input().split())\n",
        "start = int(input())\n",
        "\n",
        "graph = [[]for _ in range(n+1)]\n",
        "\n",
        "for i in range(m):\n",
        "  a,b,c=map(int,input().split())\n",
        "  graph[a].append((b,c))\n",
        "\n",
        "distance = [INF]*(n+1)\n",
        "\n",
        "def dijkstra(start):\n",
        "  q=[]\n",
        "  heapq.heappush(q,(0,start))\n",
        "  distance[start]=0 # 시작노드로 가기 위한 거리는 0\n",
        "\n",
        "  while q:\n",
        "    dist,now = heapq.heappop(q)\n",
        "    if dist > distance[now]: # 처리된 적이 있을 경우에\n",
        "      continue\n",
        "    # 현재 노드에서 연결된 간선 정보를 확인 \n",
        "    for i in graph[now]:\n",
        "      cost= dist+i[1]\n",
        "      if cost<distance[i[0]] : \n",
        "        distance[i[0]] = cost\n",
        "        heapq.heappush((cost,i[0]))\n",
        "\n",
        "dijkstra(start)\n",
        "for i in range(1,n+1):\n",
        "  if distance[i]==INF : \n",
        "    print(\"INFINITY\")\n",
        "  else:\n",
        "    print(distance[i])    \n"
      ]
    }
  ]
}