{
  "nbformat": 4,
  "nbformat_minor": 0,
  "metadata": {
    "colab": {
      "name": "Floyd Warshall.ipynb",
      "provenance": [],
      "authorship_tag": "ABX9TyNF4RIjydtJnlj3UKGU6bPZ",
      "include_colab_link": true
    },
    "kernelspec": {
      "name": "python3",
      "display_name": "Python 3"
    },
    "language_info": {
      "name": "python"
    }
  },
  "cells": [
    {
      "cell_type": "markdown",
      "metadata": {
        "id": "view-in-github",
        "colab_type": "text"
      },
      "source": [
        "<a href=\"https://colab.research.google.com/github/minit88/Algorithm/blob/main/Shortest%20Path/Floyd_Warshall.ipynb\" target=\"_parent\"><img src=\"https://colab.research.google.com/assets/colab-badge.svg\" alt=\"Open In Colab\"/></a>"
      ]
    },
    {
      "cell_type": "code",
      "execution_count": 3,
      "metadata": {
        "colab": {
          "base_uri": "https://localhost:8080/"
        },
        "id": "pqvQOqOijy3o",
        "outputId": "6b01a8ea-b4f1-4fa6-d34d-8b66b1dc0b11"
      },
      "outputs": [
        {
          "output_type": "stream",
          "name": "stdout",
          "text": [
            "5 7\n",
            "1 2\n",
            "1 3\n",
            "1 4\n",
            "2 4\n",
            "3 4\n",
            "3 5\n",
            "4 5\n",
            "4 5\n",
            "3\n"
          ]
        }
      ],
      "source": [
        "# 플로이드 워셜\n",
        "INF = int(1e9)\n",
        "n,m = map(int,input().split())\n",
        "\n",
        "\n",
        "\n",
        "distance =[[INF]*(n+1)for _ in range(n+1)]\n",
        "for i in range(1,n+1):\n",
        "  for j in range(1,n+1):\n",
        "    if i==j :\n",
        "      distance[i][j]=0\n",
        "\n",
        "# 간선정보\n",
        "# 양방향 이동이 가능\n",
        "for i in range(m):\n",
        "  a,b = map(int,input().split())\n",
        "  distance[a][b]=1\n",
        "  distance[b][a]=1\n",
        "\n",
        "#플로이드 워셜 수행\n",
        "for k in range(1,n+1):\n",
        "  for i in range(1,n+1):\n",
        "    for j in range(1,n+1):\n",
        "      distance[i][j] = min(distance[i][j],distance[i][k]+distance[k][j])\n",
        "\n",
        "x,k = map(int,input().split())\n",
        "result = distance[1][k]+distance[k][x]\n",
        "if result >= INF :\n",
        "  print(-1)\n",
        "else:\n",
        "  print(result) \n",
        "\n",
        "\n"
      ]
    }
  ]
}