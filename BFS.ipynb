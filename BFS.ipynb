{
  "nbformat": 4,
  "nbformat_minor": 0,
  "metadata": {
    "colab": {
      "name": "BFS.ipynb",
      "provenance": [],
      "authorship_tag": "ABX9TyOimKWVkOdbjOn5/Qm/ChUB",
      "include_colab_link": true
    },
    "kernelspec": {
      "name": "python3",
      "display_name": "Python 3"
    },
    "language_info": {
      "name": "python"
    }
  },
  "cells": [
    {
      "cell_type": "markdown",
      "metadata": {
        "id": "view-in-github",
        "colab_type": "text"
      },
      "source": [
        "<a href=\"https://colab.research.google.com/github/minit88/Algorithm/blob/main/BFS.ipynb\" target=\"_parent\"><img src=\"https://colab.research.google.com/assets/colab-badge.svg\" alt=\"Open In Colab\"/></a>"
      ]
    },
    {
      "cell_type": "code",
      "execution_count": null,
      "metadata": {
        "id": "IOSPn5s5zNit"
      },
      "outputs": [],
      "source": [
        "# BFS\n",
        "from collections import deque\n",
        "n,m = map(int,input().split())\n",
        "\n",
        "\n",
        "graph = []\n",
        "\n",
        "dx = [-1,0,1,0]\n",
        "dy = [0,1,0,-1]\n",
        "\n",
        "for i in range(n):\n",
        "  graph.append(list(map(int,input())))\n",
        "\n",
        "q=deque([(0,0)])\n",
        "\n",
        "while q:\n",
        "  x,y =q.popleft()\n",
        "  for i in range(4):\n",
        "    nx = x+dx[i]\n",
        "    ny = y+ dy[i]\n",
        "    if 0<=nx<n and 0<=ny<m:\n",
        "      if  graph[nx][ny]==1: # 방문을 안 했을 경우\n",
        "        graph[nx][ny] = graph[x][y]+1\n",
        "        q.append((nx,ny))\n",
        "print(graph[n-1][m-1])\n",
        "print(graph)\n",
        "\n"
      ]
    }
  ]
}