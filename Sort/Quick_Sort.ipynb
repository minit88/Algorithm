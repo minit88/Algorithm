{
  "nbformat": 4,
  "nbformat_minor": 0,
  "metadata": {
    "colab": {
      "name": "Quick_Sort.ipynb",
      "provenance": [],
      "authorship_tag": "ABX9TyNvjl1so33ik8rRIl82eq/a",
      "include_colab_link": true
    },
    "kernelspec": {
      "name": "python3",
      "display_name": "Python 3"
    },
    "language_info": {
      "name": "python"
    }
  },
  "cells": [
    {
      "cell_type": "markdown",
      "metadata": {
        "id": "view-in-github",
        "colab_type": "text"
      },
      "source": [
        "<a href=\"https://colab.research.google.com/github/minit88/Algorithm/blob/main/Sort/Quick_Sort.ipynb\" target=\"_parent\"><img src=\"https://colab.research.google.com/assets/colab-badge.svg\" alt=\"Open In Colab\"/></a>"
      ]
    },
    {
      "cell_type": "code",
      "execution_count": 2,
      "metadata": {
        "colab": {
          "base_uri": "https://localhost:8080/"
        },
        "id": "o6PMyxLBG1ct",
        "outputId": "5625a9a3-6257-405f-d565-ec09d8ddf5f9"
      },
      "outputs": [
        {
          "output_type": "execute_result",
          "data": {
            "text/plain": [
              "[0, 1, 2, 3, 4, 5, 6, 7, 8, 9]"
            ]
          },
          "metadata": {},
          "execution_count": 2
        }
      ],
      "source": [
        "# 퀵 정렬\n",
        "\n",
        "def quick_sort(array):\n",
        "  if len(array)<=1: # 리스트가 하나 이하의 원소만을 담고 있다면 종료\n",
        "    return array # 리스트 반환\n",
        "  \n",
        "  pivot = array[0]\n",
        "  tail = array[1:]\n",
        "\n",
        "  left = [x for x in tail if x<=pivot] # 분할된 왼쪽 부분\n",
        "  right = [x for x in tail if x>pivot] # 분할된 오른쪽 부분\n",
        "\n",
        "  return quick_sort(left) + [pivot] + quick_sort(right)\n",
        "\n",
        "array = [5,7,9,0,3,1,6,2,4,8]\n",
        "\n",
        "quick_sort(array)"
      ]
    }
  ]
}