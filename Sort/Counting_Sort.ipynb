{
  "nbformat": 4,
  "nbformat_minor": 0,
  "metadata": {
    "colab": {
      "name": "Counting_Sort.ipynb",
      "provenance": [],
      "authorship_tag": "ABX9TyML0Ti9LJAfaOryhIJhbHMs",
      "include_colab_link": true
    },
    "kernelspec": {
      "name": "python3",
      "display_name": "Python 3"
    },
    "language_info": {
      "name": "python"
    }
  },
  "cells": [
    {
      "cell_type": "markdown",
      "metadata": {
        "id": "view-in-github",
        "colab_type": "text"
      },
      "source": [
        "<a href=\"https://colab.research.google.com/github/minit88/Algorithm/blob/main/Sort/Counting_Sort.ipynb\" target=\"_parent\"><img src=\"https://colab.research.google.com/assets/colab-badge.svg\" alt=\"Open In Colab\"/></a>"
      ]
    },
    {
      "cell_type": "code",
      "execution_count": 6,
      "metadata": {
        "colab": {
          "base_uri": "https://localhost:8080/"
        },
        "id": "7zQsA2j_KzGp",
        "outputId": "c4021562-1637-4a56-9cf6-0b9d6bcff9f8"
      },
      "outputs": [
        {
          "output_type": "stream",
          "name": "stdout",
          "text": [
            "0 0 1 1 2 2 3 4 5 5 6 7 8 9 9 "
          ]
        }
      ],
      "source": [
        "# 계수정렬\n",
        "\n",
        "# 모든 원소의 값이 0보다 크거나 같다고 가정\n",
        "array = [7,5,9,0,3,1,6,2,9,1,4,8,0,5,2]\n",
        "\n",
        "# 모든 범위를 포함하는 리스트 선언(모든 값은 0으로 초기화)\n",
        "count = [0] * (len(array)+1)\n",
        "\n",
        "for i in array:\n",
        "  count[i]+=1 \n",
        "for i in range(len(array)):\n",
        "  for j in range(count[i]):\n",
        "    print(i,end=' ')"
      ]
    }
  ]
}