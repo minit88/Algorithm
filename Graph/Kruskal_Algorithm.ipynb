{
  "nbformat": 4,
  "nbformat_minor": 0,
  "metadata": {
    "colab": {
      "name": "Kruskal Algorithm.ipynb",
      "provenance": [],
      "authorship_tag": "ABX9TyMTe7KXpCP4iFHhXaMAlTeJ",
      "include_colab_link": true
    },
    "kernelspec": {
      "name": "python3",
      "display_name": "Python 3"
    },
    "language_info": {
      "name": "python"
    }
  },
  "cells": [
    {
      "cell_type": "markdown",
      "metadata": {
        "id": "view-in-github",
        "colab_type": "text"
      },
      "source": [
        "<a href=\"https://colab.research.google.com/github/minit88/Algorithm/blob/main/Graph/Kruskal_Algorithm.ipynb\" target=\"_parent\"><img src=\"https://colab.research.google.com/assets/colab-badge.svg\" alt=\"Open In Colab\"/></a>"
      ]
    },
    {
      "cell_type": "code",
      "execution_count": 15,
      "metadata": {
        "colab": {
          "base_uri": "https://localhost:8080/"
        },
        "id": "PWwLTeOVayl8",
        "outputId": "77cd5aea-acd4-4f22-81f0-ed9b93dd73e2"
      },
      "outputs": [
        {
          "output_type": "stream",
          "name": "stdout",
          "text": [
            "7 9\n",
            "1 2 29\n",
            "1 5 75\n",
            "2 3 35\n",
            "2 6 34\n",
            "3 4 7\n",
            "4 6 23\n",
            "4 7 13\n",
            "5 6 53\n",
            "6 7 25\n",
            "159\n",
            "[0, 1, 1, 1, 3, 1, 1, 3]\n"
          ]
        }
      ],
      "source": [
        "# 서로소 집합\n",
        "# 최소의 비용으로 모든 도시를 연결할 경우 (사이클없이)\n",
        "# 크루스칼 알고리즘 사용\n",
        "n,m = map(int,input().split())\n",
        "\n",
        "parent = [0]*(n+1) # 초기 부모는 자기 자신으로 설정\n",
        "for i in range(1,n+1):\n",
        "  parent[i]=i\n",
        "\n",
        "def find_parent(x):\n",
        "  if parent[x] != x : # 자기 자신일 경우 리턴\n",
        "    parent[x]= find_parent(parent[x])\n",
        "  return parent[x]\n",
        "    \n",
        "\n",
        "def union_parent(x,y):\n",
        "  x = find_parent(x)\n",
        "  y = find_parent(y)\n",
        "  if y>x :\n",
        "    parent[y]=x\n",
        "  else:\n",
        "    parent[x]=y\n",
        "\n",
        "# 간선정보 및 비용 입력\n",
        "data = []\n",
        "for i in range(m):\n",
        "  x,y,c = map(int,input().split())\n",
        "  data.append((c,x,y))\n",
        "\n",
        "# 비용순으로 정리\n",
        "data.sort()\n",
        "\n",
        "\n",
        "# 사이클이 발생하지 않을 경우에만 이어준다.\n",
        "result = 0 # 최소 비용을 저장할 변수\n",
        "for i in data:\n",
        "  cost,dd,bb = i\n",
        "  if find_parent(dd)!=find_parent(bb) : # 부모 노드가 같을 경우 즉, 사이클 발생\n",
        "    result += cost\n",
        "    union_parent(dd,bb)\n",
        "\n",
        "\n",
        "print(result)\n",
        "\n"
      ]
    }
  ]
}