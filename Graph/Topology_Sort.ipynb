{
  "nbformat": 4,
  "nbformat_minor": 0,
  "metadata": {
    "colab": {
      "name": "Topology Sort.ipynb",
      "provenance": [],
      "authorship_tag": "ABX9TyPCXjV+UxFGvTEyUr80cuks",
      "include_colab_link": true
    },
    "kernelspec": {
      "name": "python3",
      "display_name": "Python 3"
    },
    "language_info": {
      "name": "python"
    }
  },
  "cells": [
    {
      "cell_type": "markdown",
      "metadata": {
        "id": "view-in-github",
        "colab_type": "text"
      },
      "source": [
        "<a href=\"https://colab.research.google.com/github/minit88/Algorithm/blob/main/Graph/Topology_Sort.ipynb\" target=\"_parent\"><img src=\"https://colab.research.google.com/assets/colab-badge.svg\" alt=\"Open In Colab\"/></a>"
      ]
    },
    {
      "cell_type": "code",
      "execution_count": 3,
      "metadata": {
        "colab": {
          "base_uri": "https://localhost:8080/"
        },
        "id": "B6h4gMQAmFmg",
        "outputId": "8d9e28a6-2594-4774-b5dc-9e37d21be763"
      },
      "outputs": [
        {
          "output_type": "stream",
          "name": "stdout",
          "text": [
            "7 8\n",
            "1 2\n",
            "1 5\n",
            "2 3\n",
            "2 6\n",
            "3 4\n",
            "4 7\n",
            "5 6\n",
            "6 4\n",
            "1 2 5 3 6 4 7 "
          ]
        }
      ],
      "source": [
        "# 위상정렬\n",
        "# 순서가 정해져 있는 일련의 작업을 차례대로 수행해야 할 때 사용\n",
        "# 방향 그래프의 모든 노드를 방향성에 거스르지 않도록 순서대로 나열하는 것\n",
        "\n",
        "from collections import deque\n",
        "\n",
        "n,m = map(int,input().split())\n",
        "\n",
        "# 그래프 연결 정보 및 진입차수 \n",
        "graph = [[]for _ in range(n+1)]\n",
        "indegree= [0]*(n+1)\n",
        "\n",
        "# 간선정보 입력 및 진입차수 갱신\n",
        "for i in range(m):\n",
        "  a,b = map(int,input().split())\n",
        "  graph[a].append(b)\n",
        "  indegree[b]+=1\n",
        "\n",
        "\n",
        "# 위상정렬 함수\n",
        "def topology_sort() :\n",
        "  result =[] # 위상정렬 결과를 담을 리스트\n",
        "  q=deque([])\n",
        "  \n",
        "  # 진입차수가 0인 노드를 찾아 큐에 삽입\n",
        "  for i in range(1,n+1):\n",
        "    if indegree[i]==0:\n",
        "      q.append(i)\n",
        "  \n",
        "  while q:\n",
        "    now = q.popleft() \n",
        "    result.append(now)\n",
        "    for i in graph[now]:\n",
        "      indegree[i]-=1 # 진입차수 1감소\n",
        "      if indegree[i]==0:\n",
        "        q.append(i)\n",
        "  \n",
        "  # 결과를 출력\n",
        "  for i in result:\n",
        "    print(i,end=' ')\n",
        "\n",
        "topology_sort()\n"
      ]
    }
  ]
}