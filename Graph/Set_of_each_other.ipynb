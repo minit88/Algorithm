{
  "nbformat": 4,
  "nbformat_minor": 0,
  "metadata": {
    "colab": {
      "name": "Set of each other.ipynb",
      "provenance": [],
      "authorship_tag": "ABX9TyNZ3pVenpaWGgWPASCm9mTF",
      "include_colab_link": true
    },
    "kernelspec": {
      "name": "python3",
      "display_name": "Python 3"
    },
    "language_info": {
      "name": "python"
    }
  },
  "cells": [
    {
      "cell_type": "markdown",
      "metadata": {
        "id": "view-in-github",
        "colab_type": "text"
      },
      "source": [
        "<a href=\"https://colab.research.google.com/github/minit88/Algorithm/blob/main/Graph/Set_of_each_other.ipynb\" target=\"_parent\"><img src=\"https://colab.research.google.com/assets/colab-badge.svg\" alt=\"Open In Colab\"/></a>"
      ]
    },
    {
      "cell_type": "code",
      "execution_count": null,
      "metadata": {
        "id": "X8wEiWZmUAF6"
      },
      "outputs": [],
      "source": [
        "# 서로소 집합\n",
        "\n",
        "n,m = map(int,input().split())\n",
        "\n",
        "parent = [i for i in range(n+1)] # 초기 부모는 자기 자신으로 설정\n",
        "\n",
        "def find_parent(x):\n",
        "  if parent[x] != x : # 자기 자신일 경우 리턴\n",
        "    parent[x]= find_parent(parent[x])\n",
        "  return parent[x]\n",
        "    \n",
        "\n",
        "def union_parent(x,y):\n",
        "  a = find_parent(x)\n",
        "  b = find_parent(y)\n",
        "  if b>a :\n",
        "    parent[y]=a\n",
        "  else:\n",
        "    parent[x]=b\n",
        "\n",
        "for i in range(m):\n",
        "  x,y = map(int,input().split())\n",
        "  union_parent(x,y)\n",
        "\n",
        "for i in range(1,n+1):\n",
        "  print(parent[i])\n"
      ]
    }
  ]
}