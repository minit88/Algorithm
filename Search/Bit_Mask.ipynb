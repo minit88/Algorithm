{
  "nbformat": 4,
  "nbformat_minor": 0,
  "metadata": {
    "colab": {
      "provenance": [],
      "authorship_tag": "ABX9TyOLmqpbvShaMkCyfQMaHups",
      "include_colab_link": true
    },
    "kernelspec": {
      "name": "python3",
      "display_name": "Python 3"
    },
    "language_info": {
      "name": "python"
    }
  },
  "cells": [
    {
      "cell_type": "markdown",
      "metadata": {
        "id": "view-in-github",
        "colab_type": "text"
      },
      "source": [
        "<a href=\"https://colab.research.google.com/github/minit88/Algorithm/blob/main/Search/Bit_Mask.ipynb\" target=\"_parent\"><img src=\"https://colab.research.google.com/assets/colab-badge.svg\" alt=\"Open In Colab\"/></a>"
      ]
    },
    {
      "cell_type": "markdown",
      "source": [
        "# **비트마스킹**"
      ],
      "metadata": {
        "id": "DKDVXSnatneT"
      }
    },
    {
      "cell_type": "code",
      "source": [
        "n=4 # 총 4개의 원소\n",
        "for i in range(1<<n):\n",
        "  nums = []\n",
        "  for j in range(n):\n",
        "    if i&(1<<j): # j번째 자리가 1인가?\n",
        "      nums.append(j)\n",
        "  print(*nums)"
      ],
      "metadata": {
        "colab": {
          "base_uri": "https://localhost:8080/"
        },
        "id": "U4k9Wkgyq6gY",
        "outputId": "2ae1a54b-e2de-4e78-8372-41c448f39e74"
      },
      "execution_count": 10,
      "outputs": [
        {
          "output_type": "stream",
          "name": "stdout",
          "text": [
            "\n",
            "0\n",
            "1\n",
            "0 1\n",
            "2\n",
            "0 2\n",
            "1 2\n",
            "0 1 2\n",
            "3\n",
            "0 3\n",
            "1 3\n",
            "0 1 3\n",
            "2 3\n",
            "0 2 3\n",
            "1 2 3\n",
            "0 1 2 3\n"
          ]
        }
      ]
    },
    {
      "cell_type": "code",
      "source": [
        "7&(6)"
      ],
      "metadata": {
        "colab": {
          "base_uri": "https://localhost:8080/"
        },
        "id": "uxhSRfK1utFw",
        "outputId": "4c054ae5-1ec1-4fed-d77c-52fa0f9c4cea"
      },
      "execution_count": 16,
      "outputs": [
        {
          "output_type": "execute_result",
          "data": {
            "text/plain": [
              "6"
            ]
          },
          "metadata": {},
          "execution_count": 16
        }
      ]
    }
  ]
}