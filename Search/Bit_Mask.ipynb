{
  "nbformat": 4,
  "nbformat_minor": 0,
  "metadata": {
    "colab": {
      "provenance": [],
      "authorship_tag": "ABX9TyMVhrF3JfLG78LMihw6cWaS"
    },
    "kernelspec": {
      "name": "python3",
      "display_name": "Python 3"
    },
    "language_info": {
      "name": "python"
    }
  },
  "cells": [
    {
      "cell_type": "markdown",
      "source": [
        "# **비트마스킹**"
      ],
      "metadata": {
        "id": "DKDVXSnatneT"
      }
    },
    {
      "cell_type": "code",
      "source": [
        "for i in range(1<<4):\n",
        "  nums = []\n",
        "  for j in range(4):\n",
        "    if i&(1<<j):\n",
        "      nums.append(j)\n",
        "  print(*nums)"
      ],
      "metadata": {
        "colab": {
          "base_uri": "https://localhost:8080/"
        },
        "id": "U4k9Wkgyq6gY",
        "outputId": "2ae1a54b-e2de-4e78-8372-41c448f39e74"
      },
      "execution_count": 10,
      "outputs": [
        {
          "output_type": "stream",
          "name": "stdout",
          "text": [
            "\n",
            "0\n",
            "1\n",
            "0 1\n",
            "2\n",
            "0 2\n",
            "1 2\n",
            "0 1 2\n",
            "3\n",
            "0 3\n",
            "1 3\n",
            "0 1 3\n",
            "2 3\n",
            "0 2 3\n",
            "1 2 3\n",
            "0 1 2 3\n"
          ]
        }
      ]
    }
  ]
}